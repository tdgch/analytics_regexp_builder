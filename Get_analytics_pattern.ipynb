{
 "cells": [
  {
   "cell_type": "markdown",
   "metadata": {},
   "source": [
    "# Créer un regexp pattern pour Google Analytics en scrapant des liens\n",
    "\n",
    "Pour trouver les stats d’un type de contenu qui n’est pas balisé et hébergé de manière homogène.\n",
    "\n",
    "A utiliser dans la recherche «Toutes les pages» avec «Titre de page» comme primary dimension.\n",
    "\n",
    "Amusez-vous bien!"
   ]
  },
  {
   "cell_type": "code",
   "execution_count": 1,
   "metadata": {
    "collapsed": true
   },
   "outputs": [],
   "source": [
    "import requests\n",
    "import pandas as pd\n",
    "from bs4 import BeautifulSoup"
   ]
  },
  {
   "cell_type": "code",
   "execution_count": 5,
   "metadata": {
    "collapsed": true
   },
   "outputs": [],
   "source": [
    "# On récupère les liens et dates - à adapter selon la page\n",
    "response = requests.get('https://www.tdg.ch/grandformat/')\n",
    "doc = BeautifulSoup(response.content, 'html.parser')\n",
    "\n",
    "anchors = []\n",
    "for a, t in zip(doc.select('h3 a'), doc.select('.time')):\n",
    "    anchors.append((a.string.strip(), a.get('href'), t.string))"
   ]
  },
  {
   "cell_type": "code",
   "execution_count": 6,
   "metadata": {},
   "outputs": [],
   "source": [
    "# Ajout manuel de liens manquants\n",
    "anchors.extend([\n",
    "    ('Les milliards du peuple angolais font la fortune d’un entrepreneur suisse', 'https://www.tdg.ch/extern/interactive_wch/paradise-papers-tdg/angola-bastos/', '05.11.2017'),\n",
    "    ('Les affaires opaques de sociétés suisses en Afrique', 'https://www.tdg.ch/extern/interactive_wch/paradise-papers-tdg/', '05.11.2017'),\n",
    "    ('Au cœur des méandres fiscaux de Nike', 'https://www.tdg.ch/extern/interactive_wch/paradise-papers-tdg/inside-nike/', '05.11.2017'),\n",
    "    ('Bientôt un congé paternité de deux semaines pour tous?', 'http://paternite.tdg.ch/', '01.03.2015')\n",
    "])"
   ]
  },
  {
   "cell_type": "code",
   "execution_count": 7,
   "metadata": {
    "collapsed": true
   },
   "outputs": [],
   "source": [
    "# On en fait un dataframe\n",
    "df = pd.DataFrame(anchors, columns = ['Titre', 'URL', 'Date'])"
   ]
  },
  {
   "cell_type": "code",
   "execution_count": 8,
   "metadata": {},
   "outputs": [
    {
     "data": {
      "text/plain": [
       "Cortex    14\n",
       "Zurich     8\n",
       "OVH        4\n",
       "Autre      3\n",
       "Name: URL, dtype: int64"
      ]
     },
     "execution_count": 8,
     "metadata": {},
     "output_type": "execute_result"
    }
   ],
   "source": [
    "# Tri par nom de domaine\n",
    "def get_host(url):\n",
    "    if url[-7:] == 'tdg.ch/' or url[-16:] == 'tdg.ch/index.php' or url[-6:] == 'tdg.ch':\n",
    "        return 'Cortex'\n",
    "    elif url.find('longforms.tdg') >= 0:\n",
    "        return 'OVH'\n",
    "    elif url.find('extern') >= 0:\n",
    "        return 'Zurich'\n",
    "    else:\n",
    "        return 'Autre'\n",
    "df['URL'].apply(get_host).value_counts()"
   ]
  },
  {
   "cell_type": "code",
   "execution_count": 9,
   "metadata": {},
   "outputs": [],
   "source": [
    "df['Hôte'] = df['URL'].apply(get_host)\n",
    "\n",
    "# On refait le dataframe sans hôte «autre»\n",
    "df = df[df['Hôte'] != 'Autre'].copy()\n",
    "df.reset_index(inplace=True)"
   ]
  },
  {
   "cell_type": "code",
   "execution_count": 10,
   "metadata": {
    "collapsed": true
   },
   "outputs": [],
   "source": [
    "# Cette colonne contiendra le <title> des pages\n",
    "df['Pagetitle'] = ''"
   ]
  },
  {
   "cell_type": "code",
   "execution_count": 74,
   "metadata": {},
   "outputs": [
    {
     "name": "stdout",
     "output_type": "stream",
     "text": [
      "http://jeuvideo.tdg.ch/… Jeu vidéo: six créateurs dévoilent leur univers – Tribune de Genève\n"
     ]
    }
   ],
   "source": [
    "for i, row in df[16:17].iterrows():\n",
    "    print(row['URL'], end='… ')\n",
    "    response = requests.get(row['URL'])\n",
    "    doc = BeautifulSoup(response.content, 'html.parser')\n",
    "    title = doc.find('title')\n",
    "    if title:\n",
    "        df.at[i, 'Pagetitle'] = title.string\n",
    "        print(title.string)"
   ]
  },
  {
   "cell_type": "code",
   "execution_count": 59,
   "metadata": {},
   "outputs": [
    {
     "data": {
      "text/plain": [
       "Titre        Comment Genève est devenu Suisse\n",
       "URL               http://bicentenaire.tdg.ch/\n",
       "Date                               19.05.2015\n",
       "Hôte                                   Cortex\n",
       "Pagetitle    Comment Genève est devenu suisse\n",
       "Name: 23, dtype: object"
      ]
     },
     "execution_count": 59,
     "metadata": {},
     "output_type": "execute_result"
    }
   ],
   "source": [
    "# Remaniement manuel\n",
    "df.at[15, 'Pagetitle'] = 'Genève, ville d’espions'\n",
    "df.at[14, 'Pagetitle'] = 'Paradise Papers'"
   ]
  },
  {
   "cell_type": "code",
   "execution_count": 82,
   "metadata": {},
   "outputs": [
    {
     "data": {
      "text/html": [
       "<div>\n",
       "<style>\n",
       "    .dataframe thead tr:only-child th {\n",
       "        text-align: right;\n",
       "    }\n",
       "\n",
       "    .dataframe thead th {\n",
       "        text-align: left;\n",
       "    }\n",
       "\n",
       "    .dataframe tbody tr th {\n",
       "        vertical-align: top;\n",
       "    }\n",
       "</style>\n",
       "<table border=\"1\" class=\"dataframe\">\n",
       "  <thead>\n",
       "    <tr style=\"text-align: right;\">\n",
       "      <th></th>\n",
       "      <th>Titre</th>\n",
       "      <th>URL</th>\n",
       "      <th>Date</th>\n",
       "      <th>Hôte</th>\n",
       "      <th>Pagetitle</th>\n",
       "    </tr>\n",
       "  </thead>\n",
       "  <tbody>\n",
       "    <tr>\n",
       "      <th>0</th>\n",
       "      <td>Quand les femmes passent à l’action</td>\n",
       "      <td>https://www.tdg.ch/extern/interactive_wch/tdg/...</td>\n",
       "      <td>13.11.2017</td>\n",
       "      <td>Zurich</td>\n",
       "      <td>Quand les femmes passent à l’action</td>\n",
       "    </tr>\n",
       "    <tr>\n",
       "      <th>1</th>\n",
       "      <td>Toutes nos enquêtes Paradise papers</td>\n",
       "      <td>https://www.tdg.ch/extern/interactive_wch/para...</td>\n",
       "      <td>09.11.2017</td>\n",
       "      <td>Zurich</td>\n",
       "      <td>Paradise Papers</td>\n",
       "    </tr>\n",
       "    <tr>\n",
       "      <th>2</th>\n",
       "      <td>La vie dorée des fils d'un potentat africain à...</td>\n",
       "      <td>https://www.tdg.ch/extern/interactive_wch/tdg/...</td>\n",
       "      <td>27.10.2017</td>\n",
       "      <td>Zurich</td>\n",
       "      <td>Les trophées genevois des fils du président</td>\n",
       "    </tr>\n",
       "    <tr>\n",
       "      <th>3</th>\n",
       "      <td>Servette succombe à la fièvre du e-sport</td>\n",
       "      <td>https://www.tdg.ch/extern/interactive_wch/tdg/...</td>\n",
       "      <td>26.09.2017</td>\n",
       "      <td>Zurich</td>\n",
       "      <td>Servette, la fièvre du e-sport – Grand format</td>\n",
       "    </tr>\n",
       "    <tr>\n",
       "      <th>4</th>\n",
       "      <td>Course du Duc: vos plans d’entraînement person...</td>\n",
       "      <td>https://www.tdg.ch/extern/interactive_wch/tdg/...</td>\n",
       "      <td>08.09.2017</td>\n",
       "      <td>Zurich</td>\n",
       "      <td>Course du Duc: vos plans d’entraînement person...</td>\n",
       "    </tr>\n",
       "    <tr>\n",
       "      <th>5</th>\n",
       "      <td>La 8e quête de Federer</td>\n",
       "      <td>http://longforms.tdg.ch/federer_wimbledon/</td>\n",
       "      <td>29.06.2017</td>\n",
       "      <td>OVH</td>\n",
       "      <td>La 8e quête – Grand format</td>\n",
       "    </tr>\n",
       "    <tr>\n",
       "      <th>6</th>\n",
       "      <td>Quinze projets pour un monde meilleur</td>\n",
       "      <td>http://longforms.tdg.ch/ijd2017/</td>\n",
       "      <td>24.06.2017</td>\n",
       "      <td>OVH</td>\n",
       "      <td>Quinze projets pour un monde meilleur - Impact...</td>\n",
       "    </tr>\n",
       "    <tr>\n",
       "      <th>7</th>\n",
       "      <td>Les grandes gueules du Grand Conseil</td>\n",
       "      <td>http://longforms.tdg.ch/grandconseil/</td>\n",
       "      <td>01.06.2017</td>\n",
       "      <td>OVH</td>\n",
       "      <td>Les grandes gueules du Grand Conseil</td>\n",
       "    </tr>\n",
       "    <tr>\n",
       "      <th>8</th>\n",
       "      <td>Di-Meh, Slimka, Makala, le rap qui enflamme Ge...</td>\n",
       "      <td>http://longforms.tdg.ch/rap</td>\n",
       "      <td>26.05.2017</td>\n",
       "      <td>OVH</td>\n",
       "      <td>Makala, Di-Meh, Slimka, le rap qui enflamme Ge...</td>\n",
       "    </tr>\n",
       "    <tr>\n",
       "      <th>9</th>\n",
       "      <td>Course de l’Escalade: les chiffres d’un succès...</td>\n",
       "      <td>http://escalade.tdg.ch/index.php</td>\n",
       "      <td>28.11.2016</td>\n",
       "      <td>Cortex</td>\n",
       "      <td>Course de l’Escalade: les chiffres d’un succès...</td>\n",
       "    </tr>\n",
       "    <tr>\n",
       "      <th>10</th>\n",
       "      <td>Quinze histoires qui peuvent changer le monde</td>\n",
       "      <td>HTTP://ijd2016.tdg.ch/</td>\n",
       "      <td>24.06.2016</td>\n",
       "      <td>Cortex</td>\n",
       "      <td>Impact Journalism Day – Tribune de Genève</td>\n",
       "    </tr>\n",
       "    <tr>\n",
       "      <th>11</th>\n",
       "      <td>Se mettre au monde</td>\n",
       "      <td>http://iuncker.tdg.ch</td>\n",
       "      <td>25.05.2016</td>\n",
       "      <td>Cortex</td>\n",
       "      <td>Se mettre au monde - Steeve Iuncker</td>\n",
       "    </tr>\n",
       "    <tr>\n",
       "      <th>12</th>\n",
       "      <td>Dans la foulée de Tadesse Abraham</td>\n",
       "      <td>http://tadesse.tdg.ch</td>\n",
       "      <td>15.08.2016</td>\n",
       "      <td>Cortex</td>\n",
       "      <td>Dans la foulée de Tadesse Abraham</td>\n",
       "    </tr>\n",
       "    <tr>\n",
       "      <th>13</th>\n",
       "      <td>A qui appartient Genève</td>\n",
       "      <td>http://propriete.tdg.ch/</td>\n",
       "      <td>19.05.2016</td>\n",
       "      <td>Cortex</td>\n",
       "      <td>A qui appartient Genève - Introduction</td>\n",
       "    </tr>\n",
       "    <tr>\n",
       "      <th>14</th>\n",
       "      <td>Une enquête journalistique internationale</td>\n",
       "      <td>http://panama.tdg.ch</td>\n",
       "      <td>03.04.2016</td>\n",
       "      <td>Cortex</td>\n",
       "      <td>Paradise Papers</td>\n",
       "    </tr>\n",
       "    <tr>\n",
       "      <th>15</th>\n",
       "      <td>Genève, ville d'espions</td>\n",
       "      <td>http://espions.tdg.ch</td>\n",
       "      <td>03.12.2015</td>\n",
       "      <td>Cortex</td>\n",
       "      <td>Genève, ville d’espions</td>\n",
       "    </tr>\n",
       "    <tr>\n",
       "      <th>16</th>\n",
       "      <td>Jeu vidéo: six Genevois dévoilent leur univers</td>\n",
       "      <td>http://jeuvideo.tdg.ch/</td>\n",
       "      <td>14.10.2015</td>\n",
       "      <td>Cortex</td>\n",
       "      <td>Jeu vidéo: six créateurs dévoilent leur univer...</td>\n",
       "    </tr>\n",
       "    <tr>\n",
       "      <th>17</th>\n",
       "      <td>Meurtre aux promotions</td>\n",
       "      <td>http://cadavreexquis.tdg.ch/</td>\n",
       "      <td>01.09.2015</td>\n",
       "      <td>Cortex</td>\n",
       "      <td>Meurtre aux promotions</td>\n",
       "    </tr>\n",
       "    <tr>\n",
       "      <th>18</th>\n",
       "      <td>Le Cervin, à la conquête d’un mythe</td>\n",
       "      <td>http://cervin.tdg.ch/</td>\n",
       "      <td>14.07.2015</td>\n",
       "      <td>Cortex</td>\n",
       "      <td>Cervin jubilée des 150ans de la première ascen...</td>\n",
       "    </tr>\n",
       "    <tr>\n",
       "      <th>19</th>\n",
       "      <td>Des idées pour un monde meilleur</td>\n",
       "      <td>http://ijd.tdg.ch/</td>\n",
       "      <td>20.06.2015</td>\n",
       "      <td>Cortex</td>\n",
       "      <td>Impact Journalism Day – Tribune de Genève</td>\n",
       "    </tr>\n",
       "    <tr>\n",
       "      <th>20</th>\n",
       "      <td>Comment Genève est devenu Suisse</td>\n",
       "      <td>http://bicentenaire.tdg.ch/</td>\n",
       "      <td>19.05.2015</td>\n",
       "      <td>Cortex</td>\n",
       "      <td>Comment Genève est devenu suisse</td>\n",
       "    </tr>\n",
       "    <tr>\n",
       "      <th>21</th>\n",
       "      <td>Finir par vendre, ou résister</td>\n",
       "      <td>http://mervelet.tdg.ch/</td>\n",
       "      <td>19.05.2015</td>\n",
       "      <td>Cortex</td>\n",
       "      <td>La Tribune de Genève à l'ère du numérique</td>\n",
       "    </tr>\n",
       "    <tr>\n",
       "      <th>22</th>\n",
       "      <td>Les milliards du peuple angolais font la fortu...</td>\n",
       "      <td>https://www.tdg.ch/extern/interactive_wch/para...</td>\n",
       "      <td>05.11.2017</td>\n",
       "      <td>Zurich</td>\n",
       "      <td>Les milliards du peuple angolais font la fortu...</td>\n",
       "    </tr>\n",
       "    <tr>\n",
       "      <th>23</th>\n",
       "      <td>Les affaires opaques de sociétés suisses en Af...</td>\n",
       "      <td>https://www.tdg.ch/extern/interactive_wch/para...</td>\n",
       "      <td>05.11.2017</td>\n",
       "      <td>Zurich</td>\n",
       "      <td>Paradise Papers</td>\n",
       "    </tr>\n",
       "    <tr>\n",
       "      <th>24</th>\n",
       "      <td>Au cœur des méandres fiscaux de Nike</td>\n",
       "      <td>https://www.tdg.ch/extern/interactive_wch/para...</td>\n",
       "      <td>05.11.2017</td>\n",
       "      <td>Zurich</td>\n",
       "      <td>Au coeur des méandres fiscaux de Nike – Paradi...</td>\n",
       "    </tr>\n",
       "    <tr>\n",
       "      <th>25</th>\n",
       "      <td>Bientôt un congé paternité de deux semaines po...</td>\n",
       "      <td>http://paternite.tdg.ch/</td>\n",
       "      <td>01.03.2015</td>\n",
       "      <td>Cortex</td>\n",
       "      <td>Bientôt un congé paternité de deux semaines po...</td>\n",
       "    </tr>\n",
       "  </tbody>\n",
       "</table>\n",
       "</div>"
      ],
      "text/plain": [
       "                                                Titre  \\\n",
       "0                 Quand les femmes passent à l’action   \n",
       "1                 Toutes nos enquêtes Paradise papers   \n",
       "2   La vie dorée des fils d'un potentat africain à...   \n",
       "3            Servette succombe à la fièvre du e-sport   \n",
       "4   Course du Duc: vos plans d’entraînement person...   \n",
       "5                              La 8e quête de Federer   \n",
       "6               Quinze projets pour un monde meilleur   \n",
       "7                Les grandes gueules du Grand Conseil   \n",
       "8   Di-Meh, Slimka, Makala, le rap qui enflamme Ge...   \n",
       "9   Course de l’Escalade: les chiffres d’un succès...   \n",
       "10      Quinze histoires qui peuvent changer le monde   \n",
       "11                                 Se mettre au monde   \n",
       "12                  Dans la foulée de Tadesse Abraham   \n",
       "13                            A qui appartient Genève   \n",
       "14          Une enquête journalistique internationale   \n",
       "15                            Genève, ville d'espions   \n",
       "16     Jeu vidéo: six Genevois dévoilent leur univers   \n",
       "17                             Meurtre aux promotions   \n",
       "18                Le Cervin, à la conquête d’un mythe   \n",
       "19                   Des idées pour un monde meilleur   \n",
       "20                   Comment Genève est devenu Suisse   \n",
       "21                      Finir par vendre, ou résister   \n",
       "22  Les milliards du peuple angolais font la fortu...   \n",
       "23  Les affaires opaques de sociétés suisses en Af...   \n",
       "24               Au cœur des méandres fiscaux de Nike   \n",
       "25  Bientôt un congé paternité de deux semaines po...   \n",
       "\n",
       "                                                  URL        Date    Hôte  \\\n",
       "0   https://www.tdg.ch/extern/interactive_wch/tdg/...  13.11.2017  Zurich   \n",
       "1   https://www.tdg.ch/extern/interactive_wch/para...  09.11.2017  Zurich   \n",
       "2   https://www.tdg.ch/extern/interactive_wch/tdg/...  27.10.2017  Zurich   \n",
       "3   https://www.tdg.ch/extern/interactive_wch/tdg/...  26.09.2017  Zurich   \n",
       "4   https://www.tdg.ch/extern/interactive_wch/tdg/...  08.09.2017  Zurich   \n",
       "5          http://longforms.tdg.ch/federer_wimbledon/  29.06.2017     OVH   \n",
       "6                    http://longforms.tdg.ch/ijd2017/  24.06.2017     OVH   \n",
       "7               http://longforms.tdg.ch/grandconseil/  01.06.2017     OVH   \n",
       "8                         http://longforms.tdg.ch/rap  26.05.2017     OVH   \n",
       "9                    http://escalade.tdg.ch/index.php  28.11.2016  Cortex   \n",
       "10                             HTTP://ijd2016.tdg.ch/  24.06.2016  Cortex   \n",
       "11                              http://iuncker.tdg.ch  25.05.2016  Cortex   \n",
       "12                              http://tadesse.tdg.ch  15.08.2016  Cortex   \n",
       "13                           http://propriete.tdg.ch/  19.05.2016  Cortex   \n",
       "14                               http://panama.tdg.ch  03.04.2016  Cortex   \n",
       "15                              http://espions.tdg.ch  03.12.2015  Cortex   \n",
       "16                            http://jeuvideo.tdg.ch/  14.10.2015  Cortex   \n",
       "17                       http://cadavreexquis.tdg.ch/  01.09.2015  Cortex   \n",
       "18                              http://cervin.tdg.ch/  14.07.2015  Cortex   \n",
       "19                                 http://ijd.tdg.ch/  20.06.2015  Cortex   \n",
       "20                        http://bicentenaire.tdg.ch/  19.05.2015  Cortex   \n",
       "21                            http://mervelet.tdg.ch/  19.05.2015  Cortex   \n",
       "22  https://www.tdg.ch/extern/interactive_wch/para...  05.11.2017  Zurich   \n",
       "23  https://www.tdg.ch/extern/interactive_wch/para...  05.11.2017  Zurich   \n",
       "24  https://www.tdg.ch/extern/interactive_wch/para...  05.11.2017  Zurich   \n",
       "25                           http://paternite.tdg.ch/  01.03.2015  Cortex   \n",
       "\n",
       "                                            Pagetitle  \n",
       "0                 Quand les femmes passent à l’action  \n",
       "1                                     Paradise Papers  \n",
       "2         Les trophées genevois des fils du président  \n",
       "3       Servette, la fièvre du e-sport – Grand format  \n",
       "4   Course du Duc: vos plans d’entraînement person...  \n",
       "5                          La 8e quête – Grand format  \n",
       "6   Quinze projets pour un monde meilleur - Impact...  \n",
       "7                Les grandes gueules du Grand Conseil  \n",
       "8   Makala, Di-Meh, Slimka, le rap qui enflamme Ge...  \n",
       "9   Course de l’Escalade: les chiffres d’un succès...  \n",
       "10          Impact Journalism Day – Tribune de Genève  \n",
       "11                Se mettre au monde - Steeve Iuncker  \n",
       "12                  Dans la foulée de Tadesse Abraham  \n",
       "13             A qui appartient Genève - Introduction  \n",
       "14                                    Paradise Papers  \n",
       "15                            Genève, ville d’espions  \n",
       "16  Jeu vidéo: six créateurs dévoilent leur univer...  \n",
       "17                             Meurtre aux promotions  \n",
       "18  Cervin jubilée des 150ans de la première ascen...  \n",
       "19          Impact Journalism Day – Tribune de Genève  \n",
       "20                   Comment Genève est devenu suisse  \n",
       "21          La Tribune de Genève à l'ère du numérique  \n",
       "22  Les milliards du peuple angolais font la fortu...  \n",
       "23                                    Paradise Papers  \n",
       "24  Au coeur des méandres fiscaux de Nike – Paradi...  \n",
       "25  Bientôt un congé paternité de deux semaines po...  "
      ]
     },
     "execution_count": 82,
     "metadata": {},
     "output_type": "execute_result"
    }
   ],
   "source": [
    "df"
   ]
  },
  {
   "cell_type": "code",
   "execution_count": 76,
   "metadata": {
    "collapsed": true
   },
   "outputs": [],
   "source": [
    "df.to_csv('longform_pagetitles.csv')"
   ]
  },
  {
   "cell_type": "code",
   "execution_count": 83,
   "metadata": {},
   "outputs": [
    {
     "name": "stdout",
     "output_type": "stream",
     "text": [
      "(^Quand les femmes passent à l’action$)|(^Paradise Papers$)|(^Les trophées genevois des fils du président$)|(^Servette, la fièvre du e-sport – Grand format$)|(^Course du Duc: vos plans d’entraînement personnalisés$)|(^La 8e quête – Grand format$)|(^Quinze projets pour un monde meilleur - Impact Journalism Day 2017$)|(^Les grandes gueules du Grand Conseil$)|(^Makala, Di-Meh, Slimka, le rap qui enflamme Genève – Grands formats$)|(^Course de l’Escalade: les chiffres d’un succès populaire$)|(^Impact Journalism Day – Tribune de Genève$)|(^Se mettre au monde - Steeve Iuncker$)|(^Dans la foulée de Tadesse Abraham$)|(^A qui appartient Genève - Introduction$)|(^Paradise Papers$)|(^Genève, ville d’espions$)|(^Jeu vidéo: six créateurs dévoilent leur univers – Tribune de Genève$)|(^Meurtre aux promotions$)|(^Cervin jubilée des 150ans de la première ascension$)|(^Impact Journalism Day – Tribune de Genève$)|(^Comment Genève est devenu suisse$)|(^La Tribune de Genève à l'ère du numérique$)|(^Les milliards du peuple angolais font la fortune d’un entrepreneur suisse – Paradise Papers$)|(^Paradise Papers$)|(^Au coeur des méandres fiscaux de Nike – Paradise Papers $)|(^Bientôt un congé paternité de deux semaines pour tous \\?$)\n"
     ]
    }
   ],
   "source": [
    "# Création du pattern pour Google Analytics\n",
    "titles = df['Pagetitle'].values\n",
    "print(\"|\".join( [\"(^{}$)\".format(i.replace('?', '\\?')) for i in titles] ))"
   ]
  },
  {
   "cell_type": "markdown",
   "metadata": {
    "collapsed": true
   },
   "source": [
    "# Et voilà!\n",
    "Les `^` et `$` (marquage de début et fin) permettent une recherche exacte pour éviter qu’un titre court ramène des résultats indésirables."
   ]
  },
  {
   "cell_type": "markdown",
   "metadata": {},
   "source": [
    "Scripté par Paul Ronga pour la [Tribune de Genève](https://www.tdg.ch), licence [GPLv3](https://www.gnu.org/licenses/gpl-3.0.html).\n",
    "\n"
   ]
  },
  {
   "cell_type": "code",
   "execution_count": null,
   "metadata": {
    "collapsed": true
   },
   "outputs": [],
   "source": []
  }
 ],
 "metadata": {
  "kernelspec": {
   "display_name": "Python 3",
   "language": "python",
   "name": "python3"
  },
  "language_info": {
   "codemirror_mode": {
    "name": "ipython",
    "version": 3
   },
   "file_extension": ".py",
   "mimetype": "text/x-python",
   "name": "python",
   "nbconvert_exporter": "python",
   "pygments_lexer": "ipython3",
   "version": "3.5.1"
  }
 },
 "nbformat": 4,
 "nbformat_minor": 2
}
